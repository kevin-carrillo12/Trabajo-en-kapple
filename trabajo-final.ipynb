{
 "cells": [
  {
   "cell_type": "code",
   "execution_count": 1,
   "metadata": {
    "_cell_guid": "b1076dfc-b9ad-4769-8c92-a6c4dae69d19",
    "_uuid": "8f2839f25d086af736a60e9eeb907d3b93b6e0e5",
    "execution": {
     "iopub.execute_input": "2023-11-11T04:03:01.788296Z",
     "iopub.status.busy": "2023-11-11T04:03:01.787879Z",
     "iopub.status.idle": "2023-11-11T04:03:01.798769Z",
     "shell.execute_reply": "2023-11-11T04:03:01.797712Z",
     "shell.execute_reply.started": "2023-11-11T04:03:01.788234Z"
    }
   },
   "outputs": [],
   "source": [
    "\n",
    "import matplotlib.pyplot as plt\n",
    "%matplotlib inline\n",
    "import numpy as np\n",
    "import pandas as pd\n",
    "import seaborn as sns\n",
    "from sklearn.linear_model import LinearRegression\n",
    "from sklearn.model_selection import train_test_split\n",
    "from sklearn.metrics import mean_squared_error"
   ]
  },
  {
   "cell_type": "code",
   "execution_count": 2,
   "metadata": {
    "execution": {
     "iopub.execute_input": "2023-11-11T04:03:01.830138Z",
     "iopub.status.busy": "2023-11-11T04:03:01.829644Z",
     "iopub.status.idle": "2023-11-11T04:03:01.839657Z",
     "shell.execute_reply": "2023-11-11T04:03:01.838371Z",
     "shell.execute_reply.started": "2023-11-11T04:03:01.830041Z"
    }
   },
   "outputs": [],
   "source": [
    "\n",
    "np.random.seed(101)\n",
    "# X y Y\n",
    "\n",
    "x = np.linspace(0,50,50)\n",
    "y = np.linspace(0,50,50)\n",
    "\n",
    "x += np.random.uniform(-4,4,50)\n",
    "y += np.random.uniform(-4,4,50)\n"
   ]
  },
  {
   "cell_type": "code",
   "execution_count": 3,
   "metadata": {
    "execution": {
     "iopub.execute_input": "2023-11-11T04:03:01.842866Z",
     "iopub.status.busy": "2023-11-11T04:03:01.842446Z",
     "iopub.status.idle": "2023-11-11T04:03:02.052787Z",
     "shell.execute_reply": "2023-11-11T04:03:02.051412Z",
     "shell.execute_reply.started": "2023-11-11T04:03:01.842790Z"
    }
   },
   "outputs": [
    {
     "data": {
      "text/plain": [
       "Text(0.5, 1.0, 'Data Dispersa')"
      ]
     },
     "execution_count": 3,
     "metadata": {},
     "output_type": "execute_result"
    },
    {
     "data": {
      "image/png": "[encoded data removed]",
      "text/plain": [
       "<Figure size 432x288 with 1 Axes>"
      ]
     },
     "metadata": {
      "needs_background": "light"
     },
     "output_type": "display_data"
    }
   ],
   "source": [
    "\n",
    "plt.scatter(x,y)\n",
    "plt.xlabel('x')\n",
    "plt.ylabel('y')\n",
    "plt.title('Data Dispersa')"
   ]
  },
  {
   "cell_type": "code",
   "execution_count": 4,
   "metadata": {
    "execution": {
     "iopub.execute_input": "2023-11-11T04:03:02.055250Z",
     "iopub.status.busy": "2023-11-11T04:03:02.054801Z",
     "iopub.status.idle": "2023-11-11T04:03:02.062773Z",
     "shell.execute_reply": "2023-11-11T04:03:02.061726Z",
     "shell.execute_reply.started": "2023-11-11T04:03:02.055174Z"
    }
   },
   "outputs": [
    {
     "data": {
      "text/plain": [
       "0.13118902161956925"
      ]
     },
     "execution_count": 4,
     "metadata": {},
     "output_type": "execute_result"
    }
   ],
   "source": [
    "\n",
    "x[0]"
   ]
  },
  {
   "cell_type": "code",
   "execution_count": 5,
   "metadata": {
    "execution": {
     "iopub.execute_input": "2023-11-11T04:03:02.064727Z",
     "iopub.status.busy": "2023-11-11T04:03:02.064379Z",
     "iopub.status.idle": "2023-11-11T04:03:02.076656Z",
     "shell.execute_reply": "2023-11-11T04:03:02.075715Z",
     "shell.execute_reply.started": "2023-11-11T04:03:02.064656Z"
    }
   },
   "outputs": [
    {
     "data": {
      "text/plain": [
       "1.4454221454108707"
      ]
     },
     "execution_count": 5,
     "metadata": {},
     "output_type": "execute_result"
    }
   ],
   "source": [
    "\n",
    "y[0]"
   ]
  },
  {
   "cell_type": "code",
   "execution_count": 6,
   "metadata": {
    "execution": {
     "iopub.execute_input": "2023-11-11T04:03:02.081253Z",
     "iopub.status.busy": "2023-11-11T04:03:02.080787Z",
     "iopub.status.idle": "2023-11-11T04:03:02.095764Z",
     "shell.execute_reply": "2023-11-11T04:03:02.094025Z",
     "shell.execute_reply.started": "2023-11-11T04:03:02.081172Z"
    }
   },
   "outputs": [
    {
     "data": {
      "text/plain": [
       "LinearRegression(copy_X=True, fit_intercept=True, n_jobs=None, normalize=False)"
      ]
     },
     "execution_count": 6,
     "metadata": {},
     "output_type": "execute_result"
    }
   ],
   "source": [
    "\n",
    "model = LinearRegression()\n",
    "model.fit(x.reshape(-1,1),y)"
   ]
  },
  {
   "cell_type": "code",
   "execution_count": 7,
   "metadata": {
    "execution": {
     "iopub.execute_input": "2023-11-11T04:03:02.099055Z",
     "iopub.status.busy": "2023-11-11T04:03:02.098742Z",
     "iopub.status.idle": "2023-11-11T04:03:02.110350Z",
     "shell.execute_reply": "2023-11-11T04:03:02.109137Z",
     "shell.execute_reply.started": "2023-11-11T04:03:02.099000Z"
    }
   },
   "outputs": [
    {
     "data": {
      "text/plain": [
       "0.9583420208449781"
      ]
     },
     "execution_count": 7,
     "metadata": {},
     "output_type": "execute_result"
    }
   ],
   "source": [
    "\n",
    "model.score(x.reshape(-1,1),y)"
   ]
  },
  {
   "cell_type": "code",
   "execution_count": 8,
   "metadata": {
    "execution": {
     "iopub.execute_input": "2023-11-11T04:03:02.113070Z",
     "iopub.status.busy": "2023-11-11T04:03:02.112581Z",
     "iopub.status.idle": "2023-11-11T04:03:02.122385Z",
     "shell.execute_reply": "2023-11-11T04:03:02.121503Z",
     "shell.execute_reply.started": "2023-11-11T04:03:02.112993Z"
    }
   },
   "outputs": [],
   "source": [
    "\n",
    "y_pred = model.predict(x.reshape(-1,1))"
   ]
  },
  {
   "cell_type": "code",
   "execution_count": 9,
   "metadata": {
    "execution": {
     "iopub.execute_input": "2023-11-11T04:03:02.124014Z",
     "iopub.status.busy": "2023-11-11T04:03:02.123678Z",
     "iopub.status.idle": "2023-11-11T04:03:02.137641Z",
     "shell.execute_reply": "2023-11-11T04:03:02.136584Z",
     "shell.execute_reply.started": "2023-11-11T04:03:02.123954Z"
    }
   },
   "outputs": [
    {
     "data": {
      "text/plain": [
       "array([ 0.09164261,  1.52845925, -1.74821593,  0.39016488,  5.45803274,\n",
       "        7.64044936,  4.48438649, 10.12827338,  9.77647218,  6.58347133,\n",
       "       10.47019162,  9.88110925,  9.54376683, 15.32248864, 17.7519472 ,\n",
       "       12.96641523, 12.79855843, 17.91567146, 19.91494534, 17.34505753,\n",
       "       21.58563891, 21.27042875, 18.56913164, 20.28344738, 21.67940246,\n",
       "       29.06738055, 26.33234355, 27.79962541, 30.0405961 , 29.52451899,\n",
       "       33.46579081, 33.64215382, 31.45025115, 32.09649102, 37.81154319,\n",
       "       34.00499715, 39.13381563, 39.86659786, 38.56613529, 42.61105625,\n",
       "       37.09697447, 38.14998712, 43.88880525, 46.39010554, 41.62203785,\n",
       "       43.54677545, 47.69135424, 44.68340027, 49.93549462, 49.25442596])"
      ]
     },
     "execution_count": 9,
     "metadata": {},
     "output_type": "execute_result"
    }
   ],
   "source": [
    "y_pred"
   ]
  },
  {
   "cell_type": "code",
   "execution_count": 10,
   "metadata": {
    "execution": {
     "iopub.execute_input": "2023-11-11T04:03:02.139837Z",
     "iopub.status.busy": "2023-11-11T04:03:02.139488Z",
     "iopub.status.idle": "2023-11-11T04:03:02.152824Z",
     "shell.execute_reply": "2023-11-11T04:03:02.151760Z",
     "shell.execute_reply.started": "2023-11-11T04:03:02.139774Z"
    }
   },
   "outputs": [
    {
     "data": {
      "text/plain": [
       "3.1031653472110023"
      ]
     },
     "execution_count": 10,
     "metadata": {},
     "output_type": "execute_result"
    }
   ],
   "source": [
    "\n",
    "RMSE = np.sqrt(mean_squared_error(y_pred,y))\n",
    "RMSE"
   ]
  },
  {
   "cell_type": "code",
   "execution_count": 11,
   "metadata": {
    "execution": {
     "iopub.execute_input": "2023-11-11T04:03:02.154871Z",
     "iopub.status.busy": "2023-11-11T04:03:02.154542Z",
     "iopub.status.idle": "2023-11-11T04:03:02.402542Z",
     "shell.execute_reply": "2023-11-11T04:03:02.401185Z",
     "shell.execute_reply.started": "2023-11-11T04:03:02.154812Z"
    }
   },
   "outputs": [
    {
     "data": {
      "text/plain": [
       "Text(0.5, 1.0, 'Linear Regression Fitted')"
      ]
     },
     "execution_count": 11,
     "metadata": {},
     "output_type": "execute_result"
    },
    {
     "data": {
      "image/png": "[encoded data removed]",
      "text/plain": [
       "<Figure size 432x288 with 1 Axes>"
      ]
     },
     "metadata": {
      "needs_background": "light"
     },
     "output_type": "display_data"
    }
   ],
   "source": [
    "\n",
    "plt.plot(x,y,'o',label='Valores reales')\n",
    "plt.plot(x,y_pred,label='Regresion Lineal')\n",
    "plt.xlabel('x')\n",
    "plt.ylabel('y')\n",
    "plt.legend()\n",
    "plt.title('Linear Regression Fitted')"
   ]
  }
 ],
 "metadata": {
  "kernelspec": {
   "display_name": "Python 3",
   "language": "python",
   "name": "python3"
  },
  "language_info": {
   "codemirror_mode": {
    "name": "ipython",
    "version": 3
   },
   "file_extension": ".py",
   "mimetype": "text/x-python",
   "name": "python",
   "nbconvert_exporter": "python",
   "pygments_lexer": "ipython3",
   "version": "3.6.6"
  }
 },
 "nbformat": 4,
 "nbformat_minor": 4
}
